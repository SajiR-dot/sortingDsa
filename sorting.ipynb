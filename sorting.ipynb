{
 "cells": [
  {
   "cell_type": "code",
   "execution_count": 42,
   "metadata": {},
   "outputs": [
    {
     "name": "stdout",
     "output_type": "stream",
     "text": [
      "5\n"
     ]
    }
   ],
   "source": [
    "# Question 1\n",
    "\n",
    "# Problem 1.Given an array of n numbers, give an algorithm which gives the element appearing maximum number of times\n",
    "\n",
    "arr = [1,3,4,5,6,5,5]\n",
    "\n",
    "# Defining a function elementMax which takes arr as an argument\n",
    "def elementMax(arr):\n",
    "    element_count = 0  # Initializing three variables element_count,max_count,max_frequency to 0\n",
    "    max_count = 0\n",
    "    max_frequency = 0\n",
    "    for i in range(len(arr)):\n",
    "        for j in range(len(arr)):\n",
    "            if arr[i]==arr[j]:\n",
    "                element_count+=1\n",
    "        if element_count>max_count:\n",
    "            max_count = element_count\n",
    "            max_frequency = arr[i]\n",
    "    return max_frequency\n",
    "            \n",
    "                \n",
    "print(elementMax(arr))           \n",
    "\n",
    "\n",
    "\n",
    "# The time complexity for this approach is O(n2)\n",
    "# The space complexity is O(1)"
   ]
  },
  {
   "cell_type": "code",
   "execution_count": 43,
   "metadata": {},
   "outputs": [
    {
     "name": "stdout",
     "output_type": "stream",
     "text": [
      "5\n"
     ]
    }
   ],
   "source": [
    "''' Problem 2 : We are given a list of n-1 integers and these integers are in the range of 1 to n . There are no \n",
    "duplicates in the list. One of the integers is missing in the list. Give an algorithm to find that element Ex: \n",
    "[1,2,4,6,3,7,8] 5 is the missing num.'''\n",
    "\n",
    "# for this we can use the formula for the summation of n natural numbers\n",
    "# n+1*(n+2)/2\n",
    "# next add all the elements inside the array\n",
    "# Then subtract the sum of all the elements in the array and the sum of n natural numbers\n",
    "\n",
    "\n",
    "def missingNum(arr,n):\n",
    "    total = (n+1)*(n+2)/2\n",
    "    sum_of_elements = sum(arr)\n",
    "    return int(total)-sum_of_elements\n",
    "\n",
    "\n",
    "\n",
    "arr = [1,2,4,6,3,7,8]\n",
    "n = len(arr)\n",
    "print(missingNum(arr,n))"
   ]
  },
  {
   "cell_type": "code",
   "execution_count": 44,
   "metadata": {},
   "outputs": [
    {
     "name": "stdout",
     "output_type": "stream",
     "text": [
      "3\n"
     ]
    }
   ],
   "source": [
    "'''Problem 3 : Given an array of n positive numbers. All numbers occurs even number of times except 1 which \n",
    "occurs odd number of times. Find that number in O(n) time and O(1) space. Ex: [1,2,3,2,3,1,3]. 3 is repeats odd \n",
    "times'''\n",
    "\n",
    "# For this problem we may consider using nested loops\n",
    "# The first loops picks the element and the second loop check how many times the element occurs\n",
    "# The count variable is incremented accordingly\n",
    "# The count variable is then checked using the % and the odd element is returned\n",
    "# The time complexity of this problem will be O(n2)\n",
    "# The space complexity will be O(1)\n",
    "\n",
    "def oddOccurence(arr):\n",
    "    count = 0\n",
    "    for i in range(len(arr)):\n",
    "        for j in range(len(arr)):\n",
    "            if arr[i]==arr[j]:\n",
    "                count+=1\n",
    "        if count%2!=0:\n",
    "            return arr[i]\n",
    "        \n",
    "\n",
    "        \n",
    "arr = [1,2,3,2,3,1,3]       \n",
    "\n",
    "\n",
    "\n",
    "print(oddOccurence(arr))\n",
    "\n"
   ]
  },
  {
   "cell_type": "code",
   "execution_count": 45,
   "metadata": {},
   "outputs": [
    {
     "data": {
      "text/plain": [
       "(4, 5)"
      ]
     },
     "execution_count": 45,
     "metadata": {},
     "output_type": "execute_result"
    }
   ],
   "source": [
    "'''Problem 4 : Given an array of n elements. Find two elements in the array such that their sum is equal to given \n",
    "element K'''\n",
    "\n",
    "# first iterate the array elements using 2vfor loops\n",
    "# The first loop for catching the number\n",
    "# The second one to check for the other element and both are added and checked if the numbers are equal to k value\n",
    "# The Time complexity of this is O(n)\n",
    "# The space complexity is O(1) \n",
    "\n",
    "arr = [1,2,3,4,5] \n",
    "k = 9\n",
    "\n",
    "def Arraysum(arr,k):\n",
    "    for i in range(len(arr)):\n",
    "        for j in range(i+1,len(arr)):\n",
    "            if arr[i]+arr[j]==k:\n",
    "                return arr[i],arr[j]\n",
    "\n",
    "Arraysum(arr,k)\n",
    "\n",
    "    "
   ]
  },
  {
   "cell_type": "code",
   "execution_count": 46,
   "metadata": {},
   "outputs": [
    {
     "data": {
      "text/plain": [
       "'Problem 5 : Given an array of both positive and negative numbers, find two numbers such that their sum is \\nclosest to 0. Ex: [ 1 ,60 ,-10, 70, -80,85]. Ans : -80,85.'"
      ]
     },
     "execution_count": 46,
     "metadata": {},
     "output_type": "execute_result"
    }
   ],
   "source": [
    "'''Problem 5 : Given an array of both positive and negative numbers, find two numbers such that their sum is \n",
    "closest to 0. Ex: [ 1 ,60 ,-10, 70, -80,85]. Ans : -80,85.'''\n",
    "\n"
   ]
  },
  {
   "cell_type": "code",
   "execution_count": 47,
   "metadata": {},
   "outputs": [
    {
     "name": "stdout",
     "output_type": "stream",
     "text": [
      "(2, 3, 6)\n"
     ]
    }
   ],
   "source": [
    "'''Problem 6 : Given an array of n elements . Find three elements such that their sum is equal to the given \n",
    "number'''\n",
    "\n",
    "# for this we can use the two pointer approach \n",
    "# This can be done only on a sorted array \n",
    "# First store the first index in start variable\n",
    "# Store the last index in end variable\n",
    "# now start the for loop till the n-2 value\n",
    "# now using the while loop perform the operation \n",
    "# If you dont find the elements increase the start index by 1 if the value is less than if it is greater decrease the end index by 1\n",
    "\n",
    "# The time complexity for this process in O(n2)\n",
    "# The space complexity is O(1)\n",
    "\n",
    "def TripleSum(arr,n,k):\n",
    "    arr.sort()\n",
    "    for i in range(0,n-2):\n",
    "        start = i+1\n",
    "        end  = n-1\n",
    "        while start<end:\n",
    "            if arr[i]+arr[start]+arr[end]==k:\n",
    "                return arr[i],arr[start],arr[end]\n",
    "            elif arr[i]+arr[start]+arr[end]<k:\n",
    "                start+=1\n",
    "            else:\n",
    "                end-=1\n",
    "    return -1\n",
    "\n",
    "\n",
    "# here we consider the array of length 5\n",
    "# The k value is 11 \n",
    "arr = [3,6,2,4,5] \n",
    "k = 11\n",
    "n = len(arr)\n",
    "print(TripleSum(arr,n,k))\n",
    "                     \n",
    "    "
   ]
  },
  {
   "cell_type": "code",
   "execution_count": 48,
   "metadata": {},
   "outputs": [
    {
     "name": "stdout",
     "output_type": "stream",
     "text": [
      "(3, 4, 5)\n"
     ]
    }
   ],
   "source": [
    "'''Problem 7 : Given an array of n elements . Find three elements i, j, k in the array such that\n",
    "\n",
    "i * i + j * j = k*k'''\n",
    "\n",
    "# we need three nested loops\n",
    "# if there are elements present we return the elements\n",
    "# if not we return -1\n",
    "\n",
    "def findelements(arr,n):\n",
    "    for i in range(n):\n",
    "        for j in range(n):\n",
    "            for k in range(n):\n",
    "                if arr[i]**2 + arr[j]**2 == arr[k]**2:\n",
    "                    return arr[i],arr[j],arr[k] \n",
    "           \n",
    "    return -1\n",
    "\n",
    "arr = [3,4,5,6,7]\n",
    "n = len(arr)\n",
    "\n",
    "print(findelements(arr,n))    \n",
    "                  "
   ]
  },
  {
   "cell_type": "code",
   "execution_count": 49,
   "metadata": {},
   "outputs": [
    {
     "name": "stdout",
     "output_type": "stream",
     "text": [
      "5\n"
     ]
    }
   ],
   "source": [
    "'''Problem 8 : An element is a majority if it appears more than n/2 times. Give an algorithm takes an array of n \n",
    "element as argument and identifies a majority (if it exists).'''\n",
    "\n",
    "# first we can use two nested loops to solve this problem\n",
    "# we can define a max count variable to store the maximum count \n",
    "# if the element at the ith index = element at the i+1 th index we increment the count\n",
    "# we also check if the element is greater than n/2\n",
    "# we return the element\n",
    "# Time complexity for this approach is O(n2)\n",
    "# Space complexity is O(1)\n",
    "\n",
    "def Majorityelement(arr,n):\n",
    "    max_count = 0\n",
    "    index = -1\n",
    "    for i in range(n):\n",
    "        count = 1\n",
    "        for j in range(i+1,n):\n",
    "            if arr[i] == arr[j]:\n",
    "                count+=1\n",
    "        if count>max_count:\n",
    "            max_count = count\n",
    "            index = i\n",
    "            \n",
    "    if max_count>n//2:\n",
    "        print(arr[index])\n",
    "    else:\n",
    "        print(\"No element found\")\n",
    "    \n",
    "    \n",
    "arr = [5,5,5,5,6,7,67]\n",
    "n = len(arr)\n",
    "\n",
    "\n",
    "\n",
    "\n",
    "Majorityelement(arr,n)"
   ]
  },
  {
   "cell_type": "code",
   "execution_count": 50,
   "metadata": {},
   "outputs": [
    {
     "data": {
      "text/plain": [
       "' Given n × n matrix, and in each row all 1’s are followed by 0’s. Find the row with the maximum \\nnumber of 0’s'"
      ]
     },
     "execution_count": 50,
     "metadata": {},
     "output_type": "execute_result"
    }
   ],
   "source": [
    "''' Given n × n matrix, and in each row all 1’s are followed by 0’s. Find the row with the maximum \n",
    "number of 0’s'''"
   ]
  },
  {
   "cell_type": "code",
   "execution_count": 51,
   "metadata": {},
   "outputs": [
    {
     "name": "stdout",
     "output_type": "stream",
     "text": [
      "[0, 0, 0, 0, 1, 2]\n"
     ]
    }
   ],
   "source": [
    "'''Problem 10 : Sort an array of 0’s, 1’s and 2’s [or R’s, G’s and B’s]: Given an array A[] consisting of 0’s, 1’s and \n",
    "2’s, give an algorithm for sorting A[].The algorithm should put all 0’s first, then all 1’s and finally all 2’s at the \n",
    "end. Example Input = {0,1,1,0,1,2,1,2,0,0,0,1}, Output = {0,0,0,0,0,1,1,1,1,1,2,2}'''\n",
    "\n",
    "def sortElements(arr,n):\n",
    "    for i in range(n):\n",
    "        for j in range(n-1,i,-1):\n",
    "            if arr[i]==arr[j]:\n",
    "                arr[i+1]=arr[j]\n",
    "                \n",
    "    return arr\n",
    "\n",
    "\n",
    "\n",
    "arr = [0,1,2,0,1,2]\n",
    "n = len(arr)        \n",
    "\n",
    "print(sortElements(arr,n))"
   ]
  }
 ],
 "metadata": {
  "kernelspec": {
   "display_name": "Python 3",
   "language": "python",
   "name": "python3"
  },
  "language_info": {
   "codemirror_mode": {
    "name": "ipython",
    "version": 3
   },
   "file_extension": ".py",
   "mimetype": "text/x-python",
   "name": "python",
   "nbconvert_exporter": "python",
   "pygments_lexer": "ipython3",
   "version": "3.11.4"
  }
 },
 "nbformat": 4,
 "nbformat_minor": 2
}
